{
  "cells": [
    {
      "cell_type": "markdown",
      "metadata": {
        "id": "view-in-github",
        "colab_type": "text"
      },
      "source": [
        "<a href=\"https://colab.research.google.com/github/renatostosp/aulas_redes_neurais_20231/blob/main/atividade1_rna2023_1_renato_santos_pereira.ipynb\" target=\"_parent\"><img src=\"https://colab.research.google.com/assets/colab-badge.svg\" alt=\"Open In Colab\"/></a>"
      ]
    },
    {
      "cell_type": "code",
      "execution_count": null,
      "metadata": {
        "id": "u-Q0ZQ81AJAD"
      },
      "outputs": [],
      "source": [
        "import numpy as np\n",
        "import tensorflow as tf\n",
        "from tensorflow.keras.datasets import reuters\n",
        "from tensorflow.keras.models import Sequential\n",
        "from tensorflow.keras.layers import Dense, Dropout, Activation\n",
        "from tensorflow.keras.preprocessing.text import Tokenizer"
      ]
    },
    {
      "cell_type": "code",
      "execution_count": null,
      "metadata": {
        "colab": {
          "base_uri": "https://localhost:8080/"
        },
        "id": "mvnfT5lcAJx1",
        "outputId": "ad9d3b28-fc09-4894-93f3-6ce3a7717800"
      },
      "outputs": [
        {
          "output_type": "stream",
          "name": "stdout",
          "text": [
            "Downloading data from https://storage.googleapis.com/tensorflow/tf-keras-datasets/reuters.npz\n",
            "2110848/2110848 [==============================] - 0s 0us/step\n"
          ]
        }
      ],
      "source": [
        "(x_train, y_train), (x_test, y_test) = reuters.load_data(num_words=10000)\n",
        "num_classes = np.max(y_train) + 1"
      ]
    },
    {
      "cell_type": "code",
      "execution_count": null,
      "metadata": {
        "colab": {
          "base_uri": "https://localhost:8080/"
        },
        "id": "SwY0M11JAJ6z",
        "outputId": "d7fec670-45d1-40a2-c782-f14c5ef31c19"
      },
      "outputs": [
        {
          "output_type": "stream",
          "name": "stdout",
          "text": [
            "x_train shape: (8982, 10000)\n",
            "x_test shape: (2246, 10000)\n"
          ]
        }
      ],
      "source": [
        "tokenizer = Tokenizer(num_words=10000)\n",
        "x_train = tokenizer.sequences_to_matrix(x_train, mode='count')\n",
        "x_test = tokenizer.sequences_to_matrix(x_test, mode='count')\n",
        "print('x_train shape:', x_train.shape)\n",
        "print('x_test shape:', x_test.shape)"
      ]
    },
    {
      "cell_type": "code",
      "execution_count": null,
      "metadata": {
        "colab": {
          "base_uri": "https://localhost:8080/"
        },
        "id": "CqSLs8-MAJ-W",
        "outputId": "09b8572a-095f-41c5-f2bd-bbfe9b7a299c"
      },
      "outputs": [
        {
          "output_type": "stream",
          "name": "stdout",
          "text": [
            "y_train shape: (8982, 46)\n",
            "y_test shape: (2246, 46)\n"
          ]
        }
      ],
      "source": [
        "y_train = tf.keras.utils.to_categorical(y_train, num_classes)\n",
        "y_test = tf.keras.utils.to_categorical(y_test, num_classes)\n",
        "print('y_train shape:', y_train.shape)\n",
        "print('y_test shape:', y_test.shape)"
      ]
    },
    {
      "cell_type": "code",
      "execution_count": null,
      "metadata": {
        "id": "kzaPJpw99KKt"
      },
      "outputs": [],
      "source": [
        "model = Sequential()\n",
        "model.add(Dense(512, input_shape=(10000,)))\n",
        "model.add(Activation('relu'))\n",
        "model.add(Dropout(0.5))\n",
        "model.add(Dense(num_classes))\n",
        "model.add(Activation('softmax'))"
      ]
    },
    {
      "cell_type": "code",
      "execution_count": null,
      "metadata": {
        "id": "Bjf3XLC--B6Q"
      },
      "outputs": [],
      "source": [
        "model.compile(optimizer='rmsprop',\n",
        "              loss='categorical_crossentropy',\n",
        "              metrics=['accuracy'])"
      ]
    },
    {
      "cell_type": "code",
      "execution_count": null,
      "metadata": {
        "colab": {
          "base_uri": "https://localhost:8080/"
        },
        "id": "Y75bm-j7CKHJ",
        "outputId": "2ae12ca6-0b07-41bc-ca7e-d11c798e8744"
      },
      "outputs": [
        {
          "output_type": "stream",
          "name": "stdout",
          "text": [
            "Epoch 1/5\n",
            "253/253 [==============================] - 25s 90ms/step - loss: 1.3104 - accuracy: 0.7275 - val_loss: 1.0143 - val_accuracy: 0.7875\n",
            "Epoch 2/5\n",
            "253/253 [==============================] - 19s 76ms/step - loss: 0.6936 - accuracy: 0.8520 - val_loss: 0.9519 - val_accuracy: 0.8154\n",
            "Epoch 3/5\n",
            "253/253 [==============================] - 22s 85ms/step - loss: 0.4934 - accuracy: 0.8930 - val_loss: 0.9378 - val_accuracy: 0.8320\n",
            "Epoch 4/5\n",
            "253/253 [==============================] - 22s 89ms/step - loss: 0.3750 - accuracy: 0.9185 - val_loss: 1.0158 - val_accuracy: 0.8320\n",
            "Epoch 5/5\n",
            "253/253 [==============================] - 21s 83ms/step - loss: 0.3184 - accuracy: 0.9315 - val_loss: 1.0494 - val_accuracy: 0.8320\n"
          ]
        }
      ],
      "source": [
        "history = model.fit(x_train, y_train,\n",
        "                    epochs=5,\n",
        "                    batch_size=32,\n",
        "                    validation_split=0.1)"
      ]
    },
    {
      "cell_type": "code",
      "execution_count": null,
      "metadata": {
        "colab": {
          "base_uri": "https://localhost:8080/"
        },
        "id": "FdMOQHKiAKLI",
        "outputId": "fa46efe5-172e-44dd-d97d-d3f8aac34c45"
      },
      "outputs": [
        {
          "output_type": "stream",
          "name": "stdout",
          "text": [
            "71/71 [==============================] - 1s 13ms/step - loss: 1.0691 - accuracy: 0.8157\n",
            "Test loss: 1.069144\n",
            "Test Accuracy: 0.815672\n"
          ]
        }
      ],
      "source": [
        "score = model.evaluate(x_test, y_test, batch_size=32, verbose=1)\n",
        "print('Test loss: {:4f}\\nTest Accuracy: {:4f}'.format(score[0], score[1]))"
      ]
    },
    {
      "cell_type": "code",
      "source": [
        "results = dict(zip(model.metrics_names,score))"
      ],
      "metadata": {
        "id": "8WGUs6DNOJKP"
      },
      "execution_count": null,
      "outputs": []
    },
    {
      "cell_type": "code",
      "source": [
        "print(results)"
      ],
      "metadata": {
        "colab": {
          "base_uri": "https://localhost:8080/"
        },
        "id": "xCnLqMVJPLWf",
        "outputId": "1ff075e7-6e99-44ea-aa22-1ad8406f54e1"
      },
      "execution_count": null,
      "outputs": [
        {
          "output_type": "stream",
          "name": "stdout",
          "text": [
            "{'loss': 1.0691438913345337, 'accuracy': 0.8156722784042358}\n"
          ]
        }
      ]
    }
  ],
  "metadata": {
    "colab": {
      "provenance": [],
      "include_colab_link": true
    },
    "kernelspec": {
      "display_name": "Python 3",
      "name": "python3"
    }
  },
  "nbformat": 4,
  "nbformat_minor": 0
}